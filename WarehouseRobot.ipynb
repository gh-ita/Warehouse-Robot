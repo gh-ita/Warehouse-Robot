{
  "nbformat": 4,
  "nbformat_minor": 0,
  "metadata": {
    "colab": {
      "provenance": [],
      "authorship_tag": "ABX9TyNnFyr+hhatf7QUvHOZ0pOi",
      "include_colab_link": true
    },
    "kernelspec": {
      "name": "python3",
      "display_name": "Python 3"
    },
    "language_info": {
      "name": "python"
    }
  },
  "cells": [
    {
      "cell_type": "markdown",
      "metadata": {
        "id": "view-in-github",
        "colab_type": "text"
      },
      "source": [
        "<a href=\"https://colab.research.google.com/github/gh-ita/Warehouse-Robot/blob/main/WarehouseRobot.ipynb\" target=\"_parent\"><img src=\"https://colab.research.google.com/assets/colab-badge.svg\" alt=\"Open In Colab\"/></a>"
      ]
    },
    {
      "cell_type": "code",
      "execution_count": 1,
      "metadata": {
        "id": "xyInDN8kTxS6"
      },
      "outputs": [],
      "source": [
        "import numpy as np"
      ]
    },
    {
      "cell_type": "code",
      "source": [
        "gamma = 0.75\n",
        "alpha = 0.9\n",
        "iterations = 1000\n"
      ],
      "metadata": {
        "id": "aoKqj13VgG3X"
      },
      "execution_count": 2,
      "outputs": []
    },
    {
      "cell_type": "markdown",
      "source": [
        "# Building the env"
      ],
      "metadata": {
        "id": "fq2Bn4qig0_z"
      }
    },
    {
      "cell_type": "code",
      "source": [
        "state = {\n",
        "    'A':0,'B':1,'C':2,'D':3,'E':4,'F':5,'G':6,'H':7,'I':8,'J':9,'K':10,'L':11\n",
        "}\n",
        "action = [0,1,2,3,4,5,6,7,8,9,10,11]\n",
        "reward = np.zeros([len(state),len(action)])"
      ],
      "metadata": {
        "id": "PXW3of8ygXiJ"
      },
      "execution_count": 19,
      "outputs": []
    },
    {
      "cell_type": "code",
      "source": [
        "reward[0,1] = 1\n",
        "reward[1,0] = 1\n",
        "reward[1,2] = 1\n",
        "reward[1,5] = 1\n",
        "reward[2,1] = 1\n",
        "reward[2,6] = 1\n",
        "reward[3,7] = 1\n",
        "reward[4,8] = 1\n",
        "reward[5,1] = 1\n",
        "reward[5,9] = 1\n",
        "reward[6,2] = 1\n",
        "reward[6,6] = 1000\n",
        "reward[6,7] = 1\n",
        "reward[7,3] = 1\n",
        "reward[7,6] = 1\n",
        "reward[7,6] = 1\n",
        "reward[7,11] = 1\n",
        "reward[8,4] = 1\n",
        "reward[8,9] = 1\n",
        "reward[9,5] = 1\n",
        "reward[9,8] = 1\n",
        "reward[9,10] = 1\n",
        "reward[10,9] = 1\n",
        "reward[10,11] = 1\n",
        "reward[11,7] = 1\n",
        "reward[11,10] = 1"
      ],
      "metadata": {
        "id": "8RC1oTEjhY6o"
      },
      "execution_count": 4,
      "outputs": []
    },
    {
      "cell_type": "code",
      "source": [
        "print(reward)"
      ],
      "metadata": {
        "colab": {
          "base_uri": "https://localhost:8080/"
        },
        "id": "1sGACtKJvQO3",
        "outputId": "2bc62bb8-6089-45d8-b10f-119e1cc0f9a6"
      },
      "execution_count": null,
      "outputs": [
        {
          "output_type": "stream",
          "name": "stdout",
          "text": [
            "[[   0.    1.    0.    0.    0.    0.    0.    0.    0.    0.    0.    0.]\n",
            " [   1.    0.    1.    0.    0.    1.    0.    0.    0.    0.    0.    0.]\n",
            " [   0.    1.    0.    0.    0.    0.    1.    0.    0.    0.    0.    0.]\n",
            " [   0.    0.    0.    0.    0.    0.    0.    1.    0.    0.    0.    0.]\n",
            " [   0.    0.    0.    0.    0.    0.    0.    0.    1.    0.    0.    0.]\n",
            " [   0.    1.    0.    0.    0.    0.    0.    0.    0.    1.    0.    0.]\n",
            " [   0.    0.    1.    0.    0.    0. 1000.    1.    0.    0.    0.    0.]\n",
            " [   0.    0.    0.    1.    0.    0.    1.    0.    0.    0.    0.    1.]\n",
            " [   0.    0.    0.    0.    1.    0.    0.    0.    0.    1.    0.    0.]\n",
            " [   0.    0.    0.    0.    0.    1.    0.    0.    1.    0.    1.    0.]\n",
            " [   0.    0.    0.    0.    0.    0.    0.    0.    0.    1.    0.    1.]\n",
            " [   0.    0.    0.    0.    0.    0.    0.    1.    0.    0.    1.    0.]]\n"
          ]
        }
      ]
    },
    {
      "cell_type": "markdown",
      "source": [
        "# Q-Learning"
      ],
      "metadata": {
        "id": "IqqZL4I-kk4T"
      }
    },
    {
      "cell_type": "markdown",
      "source": [
        "- Q learning is an algorithm that is used in finite environments, the states and actions are limited. It uses temporal difference and q values to find the optimal policy. Temporal difference serves as an estimator of how much the current q value of (state,action) needs to be updated to match the actual reward and future possible reward of the (state,action). The bellman equation is used to update each q value using the temporal difference and a learning rate.\n",
        "In order to converge to the optimal policy we need to fix a certain number of iteration.\n",
        "So Q learning is an algorithm that s uses both exploration and exploitation to find the optimal policy."
      ],
      "metadata": {
        "id": "HjQWN8eMfmWj"
      }
    },
    {
      "cell_type": "code",
      "source": [
        "# Initialize the q values\n",
        "qValues = np.zeros([len(state),len(action)])"
      ],
      "metadata": {
        "id": "tDCnT-_LizB5"
      },
      "execution_count": 5,
      "outputs": []
    },
    {
      "cell_type": "code",
      "source": [
        "for i in range(1000) :\n",
        "  randState = np.random.randint(0, 11)\n",
        "  pactions = []\n",
        "  for index, value in enumerate(reward[randState, :]):\n",
        "    if value != 0:\n",
        "      pactions.append(index)\n",
        "  #select a random action index\n",
        "  randAction = np.random.choice(pactions)\n",
        "  TD = reward[randState, randAction] + gamma*qValues[randAction, np.argmax(qValues[randAction,:])] - qValues[randState, randAction]\n",
        "  qValues[randState, randAction] += alpha*TD\n",
        "  qValues[randState, randAction] = round(qValues[randState, randAction], 0)"
      ],
      "metadata": {
        "id": "6DTcffjBkgU1"
      },
      "execution_count": 6,
      "outputs": []
    },
    {
      "cell_type": "code",
      "source": [
        "qValues"
      ],
      "metadata": {
        "colab": {
          "base_uri": "https://localhost:8080/"
        },
        "id": "XH05U1Kgizev",
        "outputId": "f2ecd22d-76a1-4034-e94f-5c632512e9cb"
      },
      "execution_count": null,
      "outputs": [
        {
          "output_type": "execute_result",
          "data": {
            "text/plain": [
              "array([[0.000e+00, 1.690e+03, 0.000e+00, 0.000e+00, 0.000e+00, 0.000e+00,\n",
              "        0.000e+00, 0.000e+00, 0.000e+00, 0.000e+00, 0.000e+00, 1.689e+03],\n",
              "       [1.268e+03, 7.500e-01, 2.252e+03, 0.000e+00, 0.000e+00, 1.268e+03,\n",
              "        0.000e+00, 0.000e+00, 0.000e+00, 0.000e+00, 0.000e+00, 1.689e+03],\n",
              "       [0.000e+00, 1.690e+03, 0.000e+00, 0.000e+00, 0.000e+00, 0.000e+00,\n",
              "        3.001e+03, 0.000e+00, 0.000e+00, 0.000e+00, 0.000e+00, 1.689e+03],\n",
              "       [0.000e+00, 0.000e+00, 0.000e+00, 0.000e+00, 0.000e+00, 0.000e+00,\n",
              "        0.000e+00, 2.252e+03, 0.000e+00, 0.000e+00, 0.000e+00, 1.689e+03],\n",
              "       [0.000e+00, 0.000e+00, 0.000e+00, 0.000e+00, 0.000e+00, 0.000e+00,\n",
              "        0.000e+00, 0.000e+00, 1.268e+03, 0.000e+00, 0.000e+00, 1.689e+03],\n",
              "       [0.000e+00, 1.690e+03, 0.000e+00, 0.000e+00, 0.000e+00, 0.000e+00,\n",
              "        0.000e+00, 0.000e+00, 0.000e+00, 1.268e+03, 0.000e+00, 1.689e+03],\n",
              "       [0.000e+00, 7.500e-01, 2.252e+03, 0.000e+00, 0.000e+00, 0.000e+00,\n",
              "        4.000e+03, 2.252e+03, 0.000e+00, 0.000e+00, 0.000e+00, 1.689e+03],\n",
              "       [0.000e+00, 7.500e-01, 0.000e+00, 1.690e+03, 0.000e+00, 0.000e+00,\n",
              "        3.001e+03, 0.000e+00, 0.000e+00, 0.000e+00, 0.000e+00, 1.690e+03],\n",
              "       [0.000e+00, 0.000e+00, 0.000e+00, 0.000e+00, 1.268e+03, 0.000e+00,\n",
              "        0.000e+00, 0.000e+00, 0.000e+00, 1.268e+03, 0.000e+00, 1.689e+03],\n",
              "       [0.000e+00, 7.500e-01, 0.000e+00, 0.000e+00, 0.000e+00, 1.268e+03,\n",
              "        0.000e+00, 0.000e+00, 1.268e+03, 0.000e+00, 1.268e+03, 1.689e+03],\n",
              "       [0.000e+00, 0.000e+00, 0.000e+00, 0.000e+00, 0.000e+00, 0.000e+00,\n",
              "        0.000e+00, 0.000e+00, 0.000e+00, 1.268e+03, 0.000e+00, 1.690e+03],\n",
              "       [0.000e+00, 0.000e+00, 0.000e+00, 0.000e+00, 0.000e+00, 0.000e+00,\n",
              "        0.000e+00, 2.252e+03, 0.000e+00, 0.000e+00, 1.268e+03, 0.000e+00]])"
            ]
          },
          "metadata": {},
          "execution_count": 44
        }
      ]
    },
    {
      "cell_type": "markdown",
      "source": [
        "# Inference"
      ],
      "metadata": {
        "id": "lPk1EzQZnAcF"
      }
    },
    {
      "cell_type": "markdown",
      "source": [
        "- The next step is to create a function which takes the any starting location as input and outputs the shortest path to our final destination."
      ],
      "metadata": {
        "id": "C6dKXmNNnDzv"
      }
    },
    {
      "cell_type": "code",
      "source": [
        "index_to_location = { state: location for location, state in state.items()}\n",
        "print(index_to_location)"
      ],
      "metadata": {
        "id": "NVnnqBfAi5tl",
        "colab": {
          "base_uri": "https://localhost:8080/"
        },
        "outputId": "986d15c3-33cf-44d7-9bb5-74ec8cb1ff5f"
      },
      "execution_count": 9,
      "outputs": [
        {
          "output_type": "stream",
          "name": "stdout",
          "text": [
            "{0: 'A', 1: 'B', 2: 'C', 3: 'D', 4: 'E', 5: 'F', 6: 'G', 7: 'H', 8: 'I', 9: 'J', 10: 'K', 11: 'L'}\n"
          ]
        }
      ]
    },
    {
      "cell_type": "code",
      "source": [
        "def route(start_loc,end_loc,state,index_to_location,qValues):\n",
        "  start_state = state[start_loc]\n",
        "  end_state = state[end_loc]\n",
        "  short_route = []\n",
        "  for state in range(len(qValues)):\n",
        "     next_state = np.argmax(qValues[start_state],axis = 0)\n",
        "     start_state = next_state\n",
        "     short_route.append(index_to_location[next_state])\n",
        "     if index_to_location[next_state] == end_loc :\n",
        "      break\n",
        "  print(short_route)\n",
        "  return short_route"
      ],
      "metadata": {
        "id": "tM0YbSNxm7lt"
      },
      "execution_count": 22,
      "outputs": []
    },
    {
      "cell_type": "code",
      "source": [
        "route('E','G',state,index_to_location,qValues)"
      ],
      "metadata": {
        "colab": {
          "base_uri": "https://localhost:8080/"
        },
        "id": "F1waIWEiqHK6",
        "outputId": "1bb0c3d8-3220-4061-8be2-865c925d1330"
      },
      "execution_count": 23,
      "outputs": [
        {
          "output_type": "stream",
          "name": "stdout",
          "text": [
            "['I', 'J', 'F', 'B', 'C', 'G']\n"
          ]
        },
        {
          "output_type": "execute_result",
          "data": {
            "text/plain": [
              "['I', 'J', 'F', 'B', 'C', 'G']"
            ]
          },
          "metadata": {},
          "execution_count": 23
        }
      ]
    },
    {
      "cell_type": "code",
      "source": [],
      "metadata": {
        "id": "STa5dOMuqPDl"
      },
      "execution_count": null,
      "outputs": []
    }
  ]
}