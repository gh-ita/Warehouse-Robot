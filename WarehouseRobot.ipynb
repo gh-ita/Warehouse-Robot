{
  "nbformat": 4,
  "nbformat_minor": 0,
  "metadata": {
    "colab": {
      "provenance": [],
      "authorship_tag": "ABX9TyMSXSx9c8G3OLl69dSs4/aO",
      "include_colab_link": true
    },
    "kernelspec": {
      "name": "python3",
      "display_name": "Python 3"
    },
    "language_info": {
      "name": "python"
    }
  },
  "cells": [
    {
      "cell_type": "markdown",
      "metadata": {
        "id": "view-in-github",
        "colab_type": "text"
      },
      "source": [
        "<a href=\"https://colab.research.google.com/github/gh-ita/Warehouse-Robot/blob/main/WarehouseRobot.ipynb\" target=\"_parent\"><img src=\"https://colab.research.google.com/assets/colab-badge.svg\" alt=\"Open In Colab\"/></a>"
      ]
    },
    {
      "cell_type": "code",
      "execution_count": null,
      "metadata": {
        "id": "xyInDN8kTxS6"
      },
      "outputs": [],
      "source": [
        "import numpy as np\n"
      ]
    },
    {
      "cell_type": "code",
      "source": [
        "gamma = 0.75\n",
        "alpha = 0.9\n"
      ],
      "metadata": {
        "id": "aoKqj13VgG3X"
      },
      "execution_count": null,
      "outputs": []
    },
    {
      "cell_type": "markdown",
      "source": [
        "# Building the env"
      ],
      "metadata": {
        "id": "fq2Bn4qig0_z"
      }
    },
    {
      "cell_type": "code",
      "source": [
        "state = {\n",
        "    'A':1,'B':2,'C':3,'D':4,'E':5,'F':6,'G':7,'H':8,'I':9,'J':10,'K':11,'L':12\n",
        "}\n",
        "action = [0,1,2,3,4,5,6,7,8,9,10,11]\n",
        "reward = np.zeros([len(state),len(action)])"
      ],
      "metadata": {
        "id": "PXW3of8ygXiJ"
      },
      "execution_count": null,
      "outputs": []
    },
    {
      "cell_type": "code",
      "source": [
        "reward[0,1] = 1\n",
        "reward[1,0] = 1\n",
        "reward[1,2] = 1\n",
        "reward[1,5] = 1\n",
        "reward[2,1] = 1\n",
        "reward[2,6] = 1\n",
        "reward[3,7] = 1\n",
        "reward[4,8] = 1\n",
        "reward[5,1] = 1\n",
        "reward[5,9] = 1\n",
        "reward[6,2] = 1\n",
        "reward[6,6] = 1000\n",
        "reward[6,7] = 1\n",
        "reward[7,3] = 1\n",
        "reward[7,6] = 1\n",
        "reward[7,6] = 1\n",
        "reward[7,11] = 1\n",
        "reward[8,4] = 1\n",
        "reward[8,9] = 1\n",
        "reward[9,5] = 1\n",
        "reward[9,8] = 1\n",
        "reward[9,10] = 1\n",
        "reward[10,9] = 1\n",
        "reward[10,11] = 1\n",
        "reward[11,7] = 1\n",
        "reward[11,10] = 1"
      ],
      "metadata": {
        "id": "8RC1oTEjhY6o"
      },
      "execution_count": null,
      "outputs": []
    },
    {
      "cell_type": "markdown",
      "source": [
        "# Q-Learning"
      ],
      "metadata": {
        "id": "IqqZL4I-kk4T"
      }
    },
    {
      "cell_type": "code",
      "source": [],
      "metadata": {
        "colab": {
          "base_uri": "https://localhost:8080/"
        },
        "id": "tDCnT-_LizB5",
        "outputId": "a5d83d14-6917-422a-83cf-40dd119b595d"
      },
      "execution_count": null,
      "outputs": [
        {
          "output_type": "stream",
          "name": "stdout",
          "text": [
            "[[   0.    1.    0.    0.    0.    0.    0.    0.    0.    0.    0.    0.]\n",
            " [   1.    0.    1.    0.    0.    1.    0.    0.    0.    0.    0.    0.]\n",
            " [   0.    1.    0.    0.    0.    0.    1.    0.    0.    0.    0.    0.]\n",
            " [   0.    0.    0.    0.    0.    0.    0.    1.    0.    0.    0.    0.]\n",
            " [   0.    0.    0.    0.    0.    0.    0.    0.    1.    0.    0.    0.]\n",
            " [   0.    1.    0.    0.    0.    0.    0.    0.    0.    1.    0.    0.]\n",
            " [   0.    0.    1.    0.    0.    0. 1000.    1.    0.    0.    0.    0.]\n",
            " [   0.    0.    0.    1.    0.    0.    1.    0.    0.    0.    0.    1.]\n",
            " [   0.    0.    0.    0.    1.    0.    0.    0.    0.    1.    0.    0.]\n",
            " [   0.    0.    0.    0.    0.    1.    0.    0.    1.    0.    1.    0.]\n",
            " [   0.    0.    0.    0.    0.    0.    0.    0.    0.    1.    0.    1.]\n",
            " [   0.    0.    0.    0.    0.    0.    0.    1.    0.    0.    1.    0.]]\n"
          ]
        }
      ]
    },
    {
      "cell_type": "code",
      "source": [],
      "metadata": {
        "id": "6DTcffjBkgU1"
      },
      "execution_count": null,
      "outputs": []
    }
  ]
}